{
 "cells": [
  {
   "cell_type": "markdown",
   "metadata": {},
   "source": [
    "### mongoDB python 연동 \n",
    "- 라이브러리 설치 (pymongo)\n",
    "- 라이브러리 로드 \n",
    "- 서버와의 연결 "
   ]
  },
  {
   "cell_type": "code",
   "execution_count": 38,
   "metadata": {},
   "outputs": [],
   "source": [
    "# 라이브러리 설치 \n",
    "# !pip install pymongo"
   ]
  },
  {
   "cell_type": "code",
   "execution_count": 2,
   "metadata": {},
   "outputs": [],
   "source": [
    "from pymongo import MongoClient"
   ]
  },
  {
   "cell_type": "code",
   "execution_count": 3,
   "metadata": {},
   "outputs": [],
   "source": [
    "# 서버와의 연결 \n",
    "# 객체 생성 -> Class 생성\n",
    "client = MongoClient(\n",
    "    host = '127.0.0.1', \n",
    "    port = 27017\n",
    ")"
   ]
  },
  {
   "cell_type": "code",
   "execution_count": 4,
   "metadata": {},
   "outputs": [
    {
     "data": {
      "text/plain": [
       "['admin', 'config', 'local']"
      ]
     },
     "execution_count": 4,
     "metadata": {},
     "output_type": "execute_result"
    }
   ],
   "source": [
    "# 데이터베이스의 목록을 확인 \n",
    "client.list_database_names()"
   ]
  },
  {
   "cell_type": "code",
   "execution_count": 5,
   "metadata": {},
   "outputs": [],
   "source": [
    "# 기존에 존재하지않은 데이터베이스 선택 \n",
    "db = client['ubion2']"
   ]
  },
  {
   "cell_type": "code",
   "execution_count": 6,
   "metadata": {},
   "outputs": [],
   "source": [
    "# collection 생성 \n",
    "collection = db['users']"
   ]
  },
  {
   "cell_type": "code",
   "execution_count": 7,
   "metadata": {},
   "outputs": [
    {
     "data": {
      "text/plain": [
       "InsertOneResult(ObjectId('67ef6b77a3e9bb863516fb2b'), acknowledged=True)"
      ]
     },
     "execution_count": 7,
     "metadata": {},
     "output_type": "execute_result"
    }
   ],
   "source": [
    "data = {\n",
    "    'id' : 'test', \n",
    "    'pass' : '1234'\n",
    "}\n",
    "collection.insert_one(data)"
   ]
  },
  {
   "cell_type": "code",
   "execution_count": 8,
   "metadata": {},
   "outputs": [
    {
     "data": {
      "text/plain": [
       "['admin', 'config', 'local', 'ubion2']"
      ]
     },
     "execution_count": 8,
     "metadata": {},
     "output_type": "execute_result"
    }
   ],
   "source": [
    "client.list_database_names()"
   ]
  },
  {
   "cell_type": "code",
   "execution_count": 9,
   "metadata": {},
   "outputs": [
    {
     "data": {
      "text/plain": [
       "InsertManyResult([ObjectId('67ef6b79a3e9bb863516fb2c'), ObjectId('67ef6b79a3e9bb863516fb2d')], acknowledged=True)"
      ]
     },
     "execution_count": 9,
     "metadata": {},
     "output_type": "execute_result"
    }
   ],
   "source": [
    "data = [\n",
    "    {\n",
    "        'name' : 'kim', \n",
    "        'phone' : '01011112222', \n",
    "        'gender' : 'male'\n",
    "    }, \n",
    "    {\n",
    "        'loc' : 'seoul'\n",
    "    }\n",
    "]\n",
    "collection.insert_many(data)"
   ]
  },
  {
   "cell_type": "code",
   "execution_count": 10,
   "metadata": {},
   "outputs": [
    {
     "data": {
      "text/plain": [
       "[{'_id': ObjectId('67ef6b77a3e9bb863516fb2b'), 'id': 'test', 'pass': '1234'},\n",
       " {'_id': ObjectId('67ef6b79a3e9bb863516fb2c'),\n",
       "  'name': 'kim',\n",
       "  'phone': '01011112222',\n",
       "  'gender': 'male'},\n",
       " {'_id': ObjectId('67ef6b79a3e9bb863516fb2d'), 'loc': 'seoul'}]"
      ]
     },
     "execution_count": 10,
     "metadata": {},
     "output_type": "execute_result"
    }
   ],
   "source": [
    "list(collection.find())"
   ]
  },
  {
   "cell_type": "code",
   "execution_count": 11,
   "metadata": {},
   "outputs": [
    {
     "data": {
      "text/plain": [
       "{'_id': ObjectId('67ef6b77a3e9bb863516fb2b'), 'id': 'test', 'pass': '1234'}"
      ]
     },
     "execution_count": 11,
     "metadata": {},
     "output_type": "execute_result"
    }
   ],
   "source": [
    "collection.find_one()"
   ]
  },
  {
   "cell_type": "code",
   "execution_count": 12,
   "metadata": {},
   "outputs": [
    {
     "data": {
      "text/plain": [
       "[{'name': 'kim', 'phone': '01011112222', 'gender': 'male'}]"
      ]
     },
     "execution_count": 12,
     "metadata": {},
     "output_type": "execute_result"
    }
   ],
   "source": [
    "# find()함수는 인자값으로 옵션의 값들을 대입\n",
    "list(\n",
    "    collection.find( {\n",
    "        'name' : 'kim'\n",
    "    }, \n",
    "    {\n",
    "        '_id' : 0\n",
    "    }\n",
    "     )\n",
    ")"
   ]
  },
  {
   "cell_type": "code",
   "execution_count": 13,
   "metadata": {},
   "outputs": [
    {
     "data": {
      "text/plain": [
       "UpdateResult({'n': 1, 'nModified': 1, 'ok': 1.0, 'updatedExisting': True}, acknowledged=True)"
      ]
     },
     "execution_count": 13,
     "metadata": {},
     "output_type": "execute_result"
    }
   ],
   "source": [
    "collection.update_one(\n",
    "    {\n",
    "        'id' : 'test'\n",
    "    }, {\n",
    "        '$set' :\n",
    "            {\n",
    "            'pass' : '0000'\n",
    "        }\n",
    "    }\n",
    ")\n",
    "# SQL -> update `users` set `pass` = '0000'  where `id` = 'test'"
   ]
  },
  {
   "cell_type": "code",
   "execution_count": 14,
   "metadata": {},
   "outputs": [
    {
     "data": {
      "text/plain": [
       "[{'_id': ObjectId('67ef6b77a3e9bb863516fb2b'), 'id': 'test', 'pass': '0000'},\n",
       " {'_id': ObjectId('67ef6b79a3e9bb863516fb2c'),\n",
       "  'name': 'kim',\n",
       "  'phone': '01011112222',\n",
       "  'gender': 'male'},\n",
       " {'_id': ObjectId('67ef6b79a3e9bb863516fb2d'), 'loc': 'seoul'}]"
      ]
     },
     "execution_count": 14,
     "metadata": {},
     "output_type": "execute_result"
    }
   ],
   "source": [
    "list(\n",
    "    collection.find()\n",
    ")"
   ]
  },
  {
   "cell_type": "code",
   "execution_count": 15,
   "metadata": {},
   "outputs": [
    {
     "data": {
      "text/plain": [
       "DeleteResult({'n': 1, 'ok': 1.0}, acknowledged=True)"
      ]
     },
     "execution_count": 15,
     "metadata": {},
     "output_type": "execute_result"
    }
   ],
   "source": [
    "# 삭제 \n",
    "collection.delete_one(\n",
    "    {\n",
    "        'id' : 'test'\n",
    "    }\n",
    ")\n",
    "# SQL ->  DELETE FROM `users` WHERE `id` = 'test'"
   ]
  },
  {
   "cell_type": "code",
   "execution_count": 16,
   "metadata": {},
   "outputs": [
    {
     "data": {
      "text/plain": [
       "[{'_id': ObjectId('67ef6b79a3e9bb863516fb2c'),\n",
       "  'name': 'kim',\n",
       "  'phone': '01011112222',\n",
       "  'gender': 'male'},\n",
       " {'_id': ObjectId('67ef6b79a3e9bb863516fb2d'), 'loc': 'seoul'}]"
      ]
     },
     "execution_count": 16,
     "metadata": {},
     "output_type": "execute_result"
    }
   ],
   "source": [
    "list(collection.find())"
   ]
  },
  {
   "cell_type": "markdown",
   "metadata": {},
   "source": [
    "#### mongoDB select 조건식\n",
    "- find(옵션1, 옵션2, ...)\n",
    "    1. db.collection.find() -> SELECT * FROM TABLE\n",
    "    2. db.collection.find({'id' : 'test', 'pass' : '1234'}) -> SELECT * FROM TABLE WHERE `id` = 'test' AND `pass` = '1234'\n",
    "    3. db.collection.find({'id' : 'test'}, {'pass' : '1234'}) -> SELECT * FROM TABLE WHERE `id` = 'test' OR `pass` = '1234'\n",
    "    4. db.collection.find({}, {'id' : 1, 'pass' : 1}) -> SELECT `id`, `pass` FROM TABLE\n",
    "    5. db.collection.find({}, {'id' : 0}) -> id 컬럼 제외한 sql쿼리문\n",
    "    6. db.collection.find({'age' : {'$gt' : 25}}) -> SELECT * FROM TABLE WHERE `age` > 25\n",
    "    7. db.collection.find({'age' : {'$lt' : 25}}) -> SELECT * FROM TABLE WHERE `age` < 25\n",
    "    8. db.collection.find({'id' : {/bc/}}) : SELECT * FROM TABLE WHERE `id` LIKE '%bc%'\n",
    "    9. db.collection.find().sort({'id' : 1}) : SELECT * FROM TABLE ORDER BY `id` ASC\n",
    "    10. db.collection.find().sort({'id' : -1}) : SELECT * FROM TABLE ORDER BY `id` DESC\n",
    "    11. db.collection.find().limit(10) : SELECT * FROM TABLE LIMIT 10"
   ]
  },
  {
   "cell_type": "code",
   "execution_count": 17,
   "metadata": {},
   "outputs": [
    {
     "data": {
      "text/plain": [
       "[]"
      ]
     },
     "execution_count": 17,
     "metadata": {},
     "output_type": "execute_result"
    }
   ],
   "source": [
    "# MONGODB에서 admin 데이터베이스에서 test라는 collection에 있는 데이터 중 \n",
    "# SAL의 값이 1500보다 큰 데이터에서 ENAME을 기준으로 내림차순 정렬\n",
    "\n",
    "list(client['admin'].test.find(\n",
    ").sort([('ENAME' , -1)]))"
   ]
  },
  {
   "cell_type": "code",
   "execution_count": null,
   "metadata": {},
   "outputs": [],
   "source": []
  }
 ],
 "metadata": {
  "kernelspec": {
   "display_name": "Python 3",
   "language": "python",
   "name": "python3"
  },
  "language_info": {
   "codemirror_mode": {
    "name": "ipython",
    "version": 3
   },
   "file_extension": ".py",
   "mimetype": "text/x-python",
   "name": "python",
   "nbconvert_exporter": "python",
   "pygments_lexer": "ipython3",
   "version": "3.11.2"
  }
 },
 "nbformat": 4,
 "nbformat_minor": 2
}
